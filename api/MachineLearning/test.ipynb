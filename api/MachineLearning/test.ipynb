{
 "cells": [
  {
   "cell_type": "code",
   "execution_count": null,
   "metadata": {},
   "outputs": [],
   "source": [
    "import data\n",
    "import classifier\n",
    "import utils\n",
    "\n",
    "import pandas as pd\n",
    "\n",
    "df = pd.read_csv('/home/firl/bot-detector-ml-training/src/data/raw/2022-10-26_hiscore_data.csv')\n",
    "\n"
   ]
  },
  {
   "cell_type": "code",
   "execution_count": null,
   "metadata": {},
   "outputs": [],
   "source": [
    "# df.info()\n",
    "import importlib\n",
    "importlib.reload(data)\n",
    "hiscoredata = data.hiscoreData(df)"
   ]
  },
  {
   "cell_type": "code",
   "execution_count": null,
   "metadata": {},
   "outputs": [],
   "source": [
    "print(hiscoredata.df_clean.columns, '\\n', hiscoredata.df_clean.head())\n",
    "features = hiscoredata.features()\n",
    "# no playerData()-related data, its already in features\n",
    "features_labeled = features"
   ]
  },
  {
   "cell_type": "code",
   "execution_count": null,
   "metadata": {},
   "outputs": [],
   "source": [
    "binary_classifier = classifier.classifier(\"binaryClassifier\")\n",
    "# app.py line 179\n",
    "# train & score the model\n"
   ]
  },
  {
   "cell_type": "code",
   "execution_count": null,
   "metadata": {},
   "outputs": [],
   "source": [
    "# create train test data\n",
    "from sklearn.model_selection import train_test_split\n",
    "# print(features_labeled.shape, '\\n', features_labeled.head())\n",
    "#x, y = features_labeled.iloc[:, :-1], features_labeled.iloc[:, -1]\n",
    "x = features_labeled.copy()\n",
    "# print(x['label'].unique())\n",
    "y = x['label'].apply(lambda x: 0 if x == 'Real_Player' else 1)\n",
    "# print(y.head())\n",
    "#print(y.unique())\n",
    "# TODO one-hot encode account status\n",
    "print(x['account_status'].unique())\n",
    "x.drop(columns=['label', 'label_id', 'name', 'created_at', 'updated_at', 'account_status'], inplace=True)\n",
    "# print(x.columns)\n",
    "train_x, test_x, train_y, test_y = train_test_split(\n",
    "    x, y, test_size=0.2, random_state=42, stratify=y\n",
    ")"
   ]
  },
  {
   "cell_type": "code",
   "execution_count": null,
   "metadata": {},
   "outputs": [],
   "source": [
    "\n",
    "# print(train_x.dtypes)\n",
    "# print(y.unique())\n",
    "binary_classifier.fit(train_x, train_y)\n",
    "binary_classifier.score(test_y, test_x)\n",
    "# OUTPUT: (0.9992126580557206, 0.9992126580557205)"
   ]
  },
  {
   "cell_type": "code",
   "execution_count": null,
   "metadata": {},
   "outputs": [],
   "source": [
    "# pd.to_datetime(\"2010/11/12\", format=\"%Y/%m/%d\")\n",
    "# Out[52]: Timestamp('2010-11-12 00:00:00')\n",
    "\n",
    "# pd.to_datetime(\"12-11-2010 00:00\", format=\"%d-%m-%Y %H:%M\")\n",
    "# Out[53]: Timestamp('2010-11-12 00:00:00')\n",
    "'''\n",
    "print(features_labeled['created_at'].dtypes)\n",
    "created_at_ts = pd.to_datetime(features_labeled['created_at'], format=\"%Y-%m-%d %H:%M:%S\")\n",
    "updated_at_ts = pd.to_datetime(features_labeled['updated_at'], format=\"%Y-%m-%d %H:%M:%S\")\n",
    "acct_lifespan_ts = updated_at_ts - created_at_ts\n",
    "print(created_at_ts.head())\n",
    "print(updated_at_ts.head())\n",
    "print(acct_lifespan_ts)\n",
    "'''\n",
    "# created_at_ts.apply(lambda x: (x - pd.Timestamp(\"1970-01-01\")) / pd.Timedelta(\"1s\")).head()\n",
    "# (stamps - pd.Timestamp(\"1970-01-01\")) // pd.Timedelta(\"1s\")\n",
    "# pd.to_datetime(features_labeled['created_at'], format=\"%Y-%m-%d %H:%M:%S\").dtypes"
   ]
  }
 ],
 "metadata": {
  "kernelspec": {
   "display_name": "python3.10 ipynb kernel",
   "language": "python",
   "name": "mykernel"
  },
  "language_info": {
   "codemirror_mode": {
    "name": "ipython",
    "version": 3
   },
   "file_extension": ".py",
   "mimetype": "text/x-python",
   "name": "python",
   "nbconvert_exporter": "python",
   "pygments_lexer": "ipython3",
   "version": "3.10.6"
  },
  "orig_nbformat": 4
 },
 "nbformat": 4,
 "nbformat_minor": 2
}
